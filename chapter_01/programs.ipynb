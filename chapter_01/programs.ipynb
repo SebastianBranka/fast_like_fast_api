{
 "cells": [
  {
   "cell_type": "code",
   "execution_count": 1,
   "id": "62a61d27",
   "metadata": {},
   "outputs": [
    {
     "name": "stdout",
     "output_type": "stream",
     "text": [
      "To jest program\n",
      "(który wywołuje tę funkcję)\n",
      "i tutaj się kończy.\n"
     ]
    }
   ],
   "source": [
    "def paid_promotion():\n",
    "    print(\"(który wywołuje tę funkcję)\")\n",
    "\n",
    "print(\"To jest program\")\n",
    "paid_promotion()\n",
    "print(\"i tutaj się kończy.\")"
   ]
  },
  {
   "cell_type": "code",
   "execution_count": null,
   "id": "d3fd1315",
   "metadata": {},
   "outputs": [],
   "source": []
  }
 ],
 "metadata": {
  "kernelspec": {
   "display_name": ".venv",
   "language": "python",
   "name": "python3"
  },
  "language_info": {
   "codemirror_mode": {
    "name": "ipython",
    "version": 3
   },
   "file_extension": ".py",
   "mimetype": "text/x-python",
   "name": "python",
   "nbconvert_exporter": "python",
   "pygments_lexer": "ipython3",
   "version": "3.13.3"
  }
 },
 "nbformat": 4,
 "nbformat_minor": 5
}
